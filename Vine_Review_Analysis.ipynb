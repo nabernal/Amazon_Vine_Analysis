{
  "nbformat": 4,
  "nbformat_minor": 0,
  "metadata": {
    "colab": {
      "provenance": []
    },
    "kernelspec": {
      "name": "python3",
      "display_name": "Python 3"
    },
    "language_info": {
      "name": "python"
    }
  },
  "cells": [
    {
      "cell_type": "code",
      "execution_count": 1,
      "metadata": {
        "colab": {
          "base_uri": "https://localhost:8080/"
        },
        "id": "_vXrzn7j4CVS",
        "outputId": "1d384f4b-470d-4341-a937-b5d2aae9f456"
      },
      "outputs": [
        {
          "output_type": "stream",
          "name": "stdout",
          "text": [
            "\r0% [Working]\r            \rGet:1 https://cloud.r-project.org/bin/linux/ubuntu bionic-cran40/ InRelease [3,626 B]\n",
            "\r0% [Connecting to archive.ubuntu.com (185.125.190.36)] [Connecting to security.\r0% [Connecting to archive.ubuntu.com (185.125.190.36)] [Connecting to security.\r0% [1 InRelease gpgv 3,626 B] [Connecting to archive.ubuntu.com (185.125.190.36\r                                                                               \rIgn:2 https://developer.download.nvidia.com/compute/machine-learning/repos/ubuntu1804/x86_64  InRelease\n",
            "\r0% [1 InRelease gpgv 3,626 B] [Connecting to archive.ubuntu.com (185.125.190.36\r                                                                               \rHit:3 https://developer.download.nvidia.com/compute/cuda/repos/ubuntu1804/x86_64  InRelease\n",
            "Hit:4 https://developer.download.nvidia.com/compute/machine-learning/repos/ubuntu1804/x86_64  Release\n",
            "Hit:5 http://ppa.launchpad.net/c2d4u.team/c2d4u4.0+/ubuntu bionic InRelease\n",
            "Hit:6 http://archive.ubuntu.com/ubuntu bionic InRelease\n",
            "Get:7 http://archive.ubuntu.com/ubuntu bionic-updates InRelease [88.7 kB]\n",
            "Hit:8 http://ppa.launchpad.net/cran/libgit2/ubuntu bionic InRelease\n",
            "Get:9 http://security.ubuntu.com/ubuntu bionic-security InRelease [88.7 kB]\n",
            "Hit:11 http://ppa.launchpad.net/deadsnakes/ppa/ubuntu bionic InRelease\n",
            "Get:12 http://archive.ubuntu.com/ubuntu bionic-backports InRelease [83.3 kB]\n",
            "Get:13 http://ppa.launchpad.net/graphics-drivers/ppa/ubuntu bionic InRelease [21.3 kB]\n",
            "Get:14 http://archive.ubuntu.com/ubuntu bionic-updates/universe amd64 Packages [2,348 kB]\n",
            "Get:15 http://security.ubuntu.com/ubuntu bionic-security/restricted amd64 Packages [1,349 kB]\n",
            "Get:16 http://archive.ubuntu.com/ubuntu bionic-updates/restricted amd64 Packages [1,389 kB]\n",
            "Get:17 http://archive.ubuntu.com/ubuntu bionic-updates/main amd64 Packages [3,549 kB]\n",
            "Get:18 http://archive.ubuntu.com/ubuntu bionic-updates/multiverse amd64 Packages [30.9 kB]\n",
            "Get:19 http://security.ubuntu.com/ubuntu bionic-security/main amd64 Packages [3,127 kB]\n",
            "Get:20 http://security.ubuntu.com/ubuntu bionic-security/universe amd64 Packages [1,573 kB]\n",
            "Get:21 http://ppa.launchpad.net/graphics-drivers/ppa/ubuntu bionic/main amd64 Packages [43.2 kB]\n",
            "Fetched 13.7 MB in 5s (2,731 kB/s)\n",
            "Reading package lists... Done\n"
          ]
        }
      ],
      "source": [
        "import os\n",
        "# Find the latest version of spark 3.2 from http://www.apache.org/dist/spark/ and enter as the spark version\n",
        "# For example:\n",
        "# spark_version = 'spark-3.2.3'\n",
        "spark_version = 'spark-3.3.1'\n",
        "os.environ['SPARK_VERSION']=spark_version\n",
        "\n",
        "# Install Spark and Java\n",
        "!apt-get update\n",
        "!apt-get install openjdk-11-jdk-headless -qq > /dev/null\n",
        "!wget -q http://www.apache.org/dist/spark/$SPARK_VERSION/$SPARK_VERSION-bin-hadoop3.tgz\n",
        "!tar xf $SPARK_VERSION-bin-hadoop3.tgz\n",
        "!pip install -q findspark\n",
        "\n",
        "# Set Environment Variables\n",
        "import os\n",
        "os.environ[\"JAVA_HOME\"] = \"/usr/lib/jvm/java-11-openjdk-amd64\"\n",
        "os.environ[\"SPARK_HOME\"] = f\"/content/{spark_version}-bin-hadoop3\"\n",
        "\n",
        "# Start a SparkSession\n",
        "import findspark\n",
        "findspark.init()"
      ]
    },
    {
      "cell_type": "code",
      "source": [
        "from pyspark.sql import SparkSession\n",
        "spark = SparkSession.builder.appName(\"M17-Amazon-Challenge\").config(\"spark.driver.extraClassPath\",\"/content/postgresql-42.2.16.jar\").getOrCreate()"
      ],
      "metadata": {
        "id": "b3UkeJxK5FXa"
      },
      "execution_count": 2,
      "outputs": []
    },
    {
      "cell_type": "code",
      "source": [
        "from pyspark import SparkFiles\n",
        "url = \"https://s3.amazonaws.com/amazon-reviews-pds/tsv/amazon_reviews_us_Pet_Products_v1_00.tsv.gz\"\n",
        "spark.sparkContext.addFile(url)\n",
        "df = spark.read.option(\"encoding\", \"UTF-8\").csv(SparkFiles.get(\"\"), sep=\"\\t\", header=True, inferSchema=True)\n",
        "df.show()"
      ],
      "metadata": {
        "colab": {
          "base_uri": "https://localhost:8080/"
        },
        "id": "mCkS8I7W5iFb",
        "outputId": "950fecb6-9052-4ddd-a434-a0cf5bd1cd77"
      },
      "execution_count": 3,
      "outputs": [
        {
          "output_type": "stream",
          "name": "stdout",
          "text": [
            "+-----------+-----------+--------------+----------+--------------+--------------------+----------------+-----------+-------------+-----------+----+-----------------+--------------------+--------------------+-------------------+\n",
            "|marketplace|customer_id|     review_id|product_id|product_parent|       product_title|product_category|star_rating|helpful_votes|total_votes|vine|verified_purchase|     review_headline|         review_body|        review_date|\n",
            "+-----------+-----------+--------------+----------+--------------+--------------------+----------------+-----------+-------------+-----------+----+-----------------+--------------------+--------------------+-------------------+\n",
            "|         US|   28794885| REAKC26P07MDN|B00Q0K9604|     510387886|(8-Pack) EZwhelp ...|    Pet Products|          5|            0|          0|   N|                Y|A great purchase ...|Best belly bands ...|2015-08-31 00:00:00|\n",
            "|         US|   11488901|R3NU7OMZ4HQIEG|B00MBW5O9W|     912374672|Warren Eckstein's...|    Pet Products|          2|            0|          1|   N|                Y|My dogs love Hugs...|My dogs love Hugs...|2015-08-31 00:00:00|\n",
            "|         US|   43214993|R14QJW3XF8QO1P|B0084OHUIO|     902215727|Tyson's True Chew...|    Pet Products|          5|            0|          0|   N|                Y|I have been purch...|I have been purch...|2015-08-31 00:00:00|\n",
            "|         US|   12835065|R2HB7AX0394ZGY|B001GS71K2|     568880110|Soft Side Pet Cra...|    Pet Products|          5|            0|          0|   N|                Y|it is easy to ope...|It is extremely w...|2015-08-31 00:00:00|\n",
            "|         US|   26334022| RGKMPDQGSAHR3|B004ABH1LG|     692846826|EliteField 3-Door...|    Pet Products|          5|            0|          0|   N|                Y|           Dog crate|Worked really wel...|2015-08-31 00:00:00|\n",
            "|         US|   22283621|R1DJCVPQGCV66E|B00AX0LFM4|     590674141|Carlson 68-Inch W...|    Pet Products|          5|            0|          0|   N|                Y|          Five Stars|I love my gates! ...|2015-08-31 00:00:00|\n",
            "|         US|   14469895|R3V52EAWLPBFQG|B00DQFZGZ0|     688538603|Dog Seat Cover Wi...|    Pet Products|          3|            0|          0|   N|                Y|Seat belt tugs on...|Didn't quite work...|2015-08-31 00:00:00|\n",
            "|         US|   50896354|R3DKO8J1J28QBI|B00DIRF9US|     742358789|The Bird Catcher ...|    Pet Products|          2|            0|          0|   N|                Y|Great Pole, but S...|I had the origina...|2015-08-31 00:00:00|\n",
            "|         US|   18440567| R764DBXGRNECG|B00JRCBFUG|     869798483|Cat Bed - Purrfec...|    Pet Products|          5|            1|          1|   N|                N|     My cat loves it|The pad is very s...|2015-08-31 00:00:00|\n",
            "|         US|   50502362| RW1853GAT0Z9F|B000L3XYZ4|     501118658|PetSafe Drinkwell...|    Pet Products|          5|            0|          0|   N|                Y|          Five Stars|My cat drinks mor...|2015-08-31 00:00:00|\n",
            "|         US|   33930128|R33GITXNUF1AD4|B00BOEXWFG|     454737777|Contech ZenDog Ca...|    Pet Products|          2|            0|          0|   N|                Y|Also had to pull ...|Much smaller than...|2015-08-31 00:00:00|\n",
            "|         US|   43534290|R1H7AVM81TAYRV|B001HBBQKY|     420905252|Wellness Crunchy ...|    Pet Products|          1|            2|          2|   N|                Y|DO NOT PURCHASE -...|I used to love th...|2015-08-31 00:00:00|\n",
            "|         US|   45555864|R2ZOYAQZNNZZWV|B007O1FHB0|     302588963|Rx Vitamins Essen...|    Pet Products|          5|            0|          0|   N|                Y|          Five Stars|Recommended by my...|2015-08-31 00:00:00|\n",
            "|         US|   11147406|R2FN1H3CGW6J8H|B001P3NU30|     525778264|Virbac C.E.T. Enz...|    Pet Products|          1|            0|          0|   N|                Y|Received wrong pr...|Yes I  ordered fo...|2015-08-31 00:00:00|\n",
            "|         US|    6495678| RJB41Q575XNG4|B00ZP6HS6S|     414117299|Kitty Shack - 2 i...|    Pet Products|          5|            0|          3|   N|                Y|          Five Stars|      It falls apart|2015-08-31 00:00:00|\n",
            "|         US|    2019416|R28W8BM1587CPF|B00IP05CUA|     833937853|Wellness Kittles ...|    Pet Products|          5|            0|          0|   N|                Y|kitty is ravenous...|My cat really lov...|2015-08-31 00:00:00|\n",
            "|         US|   40459386|R1II0M01NIG293|B001U8Y598|      85343577|OmniPet Anti-Ant ...|    Pet Products|          2|            0|          0|   N|                N|Maybe other speci...|This bowl is not ...|2015-08-31 00:00:00|\n",
            "|         US|   23126800| RMB8N0DBRH34O|B011AY4JWO|     499241195|K9KONNECTION [New...|    Pet Products|          5|            1|          1|   N|                Y|This works, dog n...|I have a small do...|2015-08-31 00:00:00|\n",
            "|         US|   30238476|R24WB6A6WVIPU6|B00DDSHE5A|     409532388|SUNSEED COMPANY 3...|    Pet Products|          5|            0|          0|   N|                Y|    Yummy for Bunny!|Bunny loves it! E...|2015-08-31 00:00:00|\n",
            "|         US|   35113999| ROCJSH0P9YSRW|B00PJW5OR8|     259271919|CXB1983(TM)Cute P...|    Pet Products|          5|            0|          0|   N|                Y|excellent price, ...|Petfect,,quality ...|2015-08-31 00:00:00|\n",
            "+-----------+-----------+--------------+----------+--------------+--------------------+----------------+-----------+-------------+-----------+----+-----------------+--------------------+--------------------+-------------------+\n",
            "only showing top 20 rows\n",
            "\n"
          ]
        }
      ]
    },
    {
      "cell_type": "code",
      "source": [
        "# Filter the data and create a new DataFrame to retrieve all the rows where the total_votes count is equal to or greater than 20 \n",
        "votes_20up = df.filter(df.total_votes >= 20)\n",
        "votes_20up.show(10)"
      ],
      "metadata": {
        "colab": {
          "base_uri": "https://localhost:8080/"
        },
        "id": "CUC55t2a51Dw",
        "outputId": "41dcb11b-bfa3-416e-ca8b-771f533b61f3"
      },
      "execution_count": 6,
      "outputs": [
        {
          "output_type": "stream",
          "name": "stdout",
          "text": [
            "+-----------+-----------+--------------+----------+--------------+--------------------+----------------+-----------+-------------+-----------+----+-----------------+--------------------+--------------------+-------------------+\n",
            "|marketplace|customer_id|     review_id|product_id|product_parent|       product_title|product_category|star_rating|helpful_votes|total_votes|vine|verified_purchase|     review_headline|         review_body|        review_date|\n",
            "+-----------+-----------+--------------+----------+--------------+--------------------+----------------+-----------+-------------+-----------+----+-----------------+--------------------+--------------------+-------------------+\n",
            "|         US|   51227803|R21KC552Y6HL8X|B00E2E1XBK|     180836080|Kennel Deck - 3 Pack|    Pet Products|          1|           27|         31|   N|                Y|The picture is of...|The product add p...|2015-08-31 00:00:00|\n",
            "|         US|   52747799| RX9WC9FTIR1XR|B00DZITYGU|     598776873|Grey Shark Bed fo...|    Pet Products|          5|           25|         25|   N|                Y|Two seconds flat ...|Once I set it up,...|2015-08-31 00:00:00|\n",
            "|         US|   23340430| RGDCOU1KBHMNG|B00N9SL8SS|     721942363|Pet Rat Mouse Lea...|    Pet Products|          3|           29|         31|   N|                Y|        OK for Price|Easy enough to pu...|2015-08-31 00:00:00|\n",
            "|         US|   48234208| RVTYWID2TPMMY|B00EB4IV2A|     140722056|Northmate Catch I...|    Pet Products|          2|           35|         42|   N|                Y|        Intimidating|Love the concept....|2015-08-31 00:00:00|\n",
            "|         US|    2321625|R2CMPZ5VESGRLY|B00OC7661E|     664108863|4 Pets Large Dog ...|    Pet Products|          4|           27|         28|   N|                Y|Xl fits my 51 pou...|A little big on h...|2015-08-31 00:00:00|\n",
            "|         US|   48415890|R3VQPJZ54B55BA|B0108LVGZI|     301347908|Medicated Oatmeal...|    Pet Products|          5|           62|         64|   N|                N|My Husky Says \"Th...|[[VIDEOID:2f1bbfc...|2015-08-31 00:00:00|\n",
            "|         US|   47321827|R24QM6D7FEDZ5M|B00EB4IV2A|     140722056|Northmate Catch I...|    Pet Products|          2|           36|         43|   N|                Y|MINI SIZE IS QUIT...|Have been using t...|2015-08-31 00:00:00|\n",
            "|         US|   53020738|R3A1VQ3SQDXEJ3|B00OLSARPK|     271494331|TEMPTATIONS SNACK...|    Pet Products|          5|           20|         20|   N|                Y|Fun for Even Less...|[[VIDEOID:4cc2a20...|2015-08-31 00:00:00|\n",
            "|         US|   41141285|  R39GSNW76GYF|B00YS9HI7C|     821362342|Easyology Premium...|    Pet Products|          1|           20|         23|   N|                Y|Hole within 24 hours|I hate to be one ...|2015-08-31 00:00:00|\n",
            "|         US|   51455033| RPJLR6MFDPXXE|B00Y841P12|     934091093|Merax Folding Cat...|    Pet Products|          5|           35|         36|   N|                Y|I LOVE THIS STROL...|My dog, Paris, is...|2015-08-31 00:00:00|\n",
            "+-----------+-----------+--------------+----------+--------------+--------------------+----------------+-----------+-------------+-----------+----+-----------------+--------------------+--------------------+-------------------+\n",
            "only showing top 10 rows\n",
            "\n"
          ]
        }
      ]
    },
    {
      "cell_type": "code",
      "source": [
        "# create a new DataFrame to retrieve all the rows where the number of helpful_votes divided by total_votes is equal to or greater than 50%.\n",
        "votes_50up = votes_20up.filter((votes_20up.helpful_votes / votes_20up.total_votes) >= 0.5)\n",
        "votes_50up.show(10)"
      ],
      "metadata": {
        "colab": {
          "base_uri": "https://localhost:8080/"
        },
        "id": "8bvnnCnm6AUk",
        "outputId": "9534f19f-88e4-4289-9139-3034f4f6dc46"
      },
      "execution_count": 9,
      "outputs": [
        {
          "output_type": "stream",
          "name": "stdout",
          "text": [
            "+-----------+-----------+--------------+----------+--------------+--------------------+----------------+-----------+-------------+-----------+----+-----------------+--------------------+--------------------+-------------------+\n",
            "|marketplace|customer_id|     review_id|product_id|product_parent|       product_title|product_category|star_rating|helpful_votes|total_votes|vine|verified_purchase|     review_headline|         review_body|        review_date|\n",
            "+-----------+-----------+--------------+----------+--------------+--------------------+----------------+-----------+-------------+-----------+----+-----------------+--------------------+--------------------+-------------------+\n",
            "|         US|   51227803|R21KC552Y6HL8X|B00E2E1XBK|     180836080|Kennel Deck - 3 Pack|    Pet Products|          1|           27|         31|   N|                Y|The picture is of...|The product add p...|2015-08-31 00:00:00|\n",
            "|         US|   52747799| RX9WC9FTIR1XR|B00DZITYGU|     598776873|Grey Shark Bed fo...|    Pet Products|          5|           25|         25|   N|                Y|Two seconds flat ...|Once I set it up,...|2015-08-31 00:00:00|\n",
            "|         US|   23340430| RGDCOU1KBHMNG|B00N9SL8SS|     721942363|Pet Rat Mouse Lea...|    Pet Products|          3|           29|         31|   N|                Y|        OK for Price|Easy enough to pu...|2015-08-31 00:00:00|\n",
            "|         US|   48234208| RVTYWID2TPMMY|B00EB4IV2A|     140722056|Northmate Catch I...|    Pet Products|          2|           35|         42|   N|                Y|        Intimidating|Love the concept....|2015-08-31 00:00:00|\n",
            "|         US|    2321625|R2CMPZ5VESGRLY|B00OC7661E|     664108863|4 Pets Large Dog ...|    Pet Products|          4|           27|         28|   N|                Y|Xl fits my 51 pou...|A little big on h...|2015-08-31 00:00:00|\n",
            "|         US|   48415890|R3VQPJZ54B55BA|B0108LVGZI|     301347908|Medicated Oatmeal...|    Pet Products|          5|           62|         64|   N|                N|My Husky Says \"Th...|[[VIDEOID:2f1bbfc...|2015-08-31 00:00:00|\n",
            "|         US|   47321827|R24QM6D7FEDZ5M|B00EB4IV2A|     140722056|Northmate Catch I...|    Pet Products|          2|           36|         43|   N|                Y|MINI SIZE IS QUIT...|Have been using t...|2015-08-31 00:00:00|\n",
            "|         US|   53020738|R3A1VQ3SQDXEJ3|B00OLSARPK|     271494331|TEMPTATIONS SNACK...|    Pet Products|          5|           20|         20|   N|                Y|Fun for Even Less...|[[VIDEOID:4cc2a20...|2015-08-31 00:00:00|\n",
            "|         US|   41141285|  R39GSNW76GYF|B00YS9HI7C|     821362342|Easyology Premium...|    Pet Products|          1|           20|         23|   N|                Y|Hole within 24 hours|I hate to be one ...|2015-08-31 00:00:00|\n",
            "|         US|   51455033| RPJLR6MFDPXXE|B00Y841P12|     934091093|Merax Folding Cat...|    Pet Products|          5|           35|         36|   N|                Y|I LOVE THIS STROL...|My dog, Paris, is...|2015-08-31 00:00:00|\n",
            "+-----------+-----------+--------------+----------+--------------+--------------------+----------------+-----------+-------------+-----------+----+-----------------+--------------------+--------------------+-------------------+\n",
            "only showing top 10 rows\n",
            "\n"
          ]
        }
      ]
    },
    {
      "cell_type": "code",
      "source": [
        "# Filter the DataFrame or table created in Step 2, and create a new DataFrame or table that retrieves all the rows where a review was written as part of the Vine program (paid)\n",
        "paid_reviews = votes_50up.filter(votes_50up.vine =='Y')\n",
        "paid_reviews.show(10)"
      ],
      "metadata": {
        "colab": {
          "base_uri": "https://localhost:8080/"
        },
        "id": "nZ0DPjia6O9S",
        "outputId": "3cb59c59-2e06-40e7-d87f-7714ee4a3568"
      },
      "execution_count": 11,
      "outputs": [
        {
          "output_type": "stream",
          "name": "stdout",
          "text": [
            "+-----------+-----------+--------------+----------+--------------+--------------------+----------------+-----------+-------------+-----------+----+-----------------+--------------------+--------------------+-------------------+\n",
            "|marketplace|customer_id|     review_id|product_id|product_parent|       product_title|product_category|star_rating|helpful_votes|total_votes|vine|verified_purchase|     review_headline|         review_body|        review_date|\n",
            "+-----------+-----------+--------------+----------+--------------+--------------------+----------------+-----------+-------------+-----------+----+-----------------+--------------------+--------------------+-------------------+\n",
            "|         US|   44759540|R3A71VR1JZD8WF|B00JGWN8O8|     378897034|Petcube Interacti...|    Pet Products|          2|           27|         30|   Y|                N|Great idea, not s...|I do not hate thi...|2015-08-29 00:00:00|\n",
            "|         US|   37388532|R16OMUJIGI18JZ|B00IP05CUA|     833937853|Wellness Kittles ...|    Pet Products|          5|           72|         72|   Y|                N|My cats went craz...|My cats response ...|2015-08-29 00:00:00|\n",
            "|         US|   51817707|R3TS8ZP2FHQ9XR|B00JGWN8O8|     378897034|Petcube Interacti...|    Pet Products|          5|           39|         42|   Y|                N|keeps my dogs ent...|The Petcube is a ...|2015-08-25 00:00:00|\n",
            "|         US|   22429746|R2MHP919VZN7DI|B00TZMCB06|     941629379|  NUTRO Wet Cat Food|    Pet Products|          5|           29|         30|   Y|                N|If You Put it Out...|While this cat fo...|2015-08-19 00:00:00|\n",
            "|         US|   36000673| RD2BCTVS59A5L|B00WO6MKXS|     435705464|Prevue Pet Produc...|    Pet Products|          2|           20|         20|   Y|                N|Good idea but not...|While this scratc...|2015-08-14 00:00:00|\n",
            "|         US|   53032062|R1JUJLXQ2CMWKF|B00MU368KQ|      17103237|Havahart Wireless...|    Pet Products|          4|           25|         26|   Y|                N|compared to petsa...|DISCLAIMER: The 3...|2015-08-11 00:00:00|\n",
            "|         US|   48391502|R2T7YE0IFI6N9L|B012VLBWXY|     753958294|OurPets Catty Wha...|    Pet Products|          3|           24|         25|   Y|                N|Broke within minu...|I really, really ...|2015-08-10 00:00:00|\n",
            "|         US|   52702539|R25FI3J7WWOYXM|B00YWPHX9K|     561320988|Instinct Freeze D...|    Pet Products|          3|           55|         58|   Y|                N|Vague sourcing of...|This dog treat/mi...|2015-07-04 00:00:00|\n",
            "|         US|   53032850|R3P3U4EOWIUD50|B00YWPHX9K|     561320988|Instinct Freeze D...|    Pet Products|          3|           27|         36|   Y|                N|Does my dog reall...|First of all, I h...|2015-07-03 00:00:00|\n",
            "|         US|   20389093|R3C7MKX7MO6XUC|B00QHC041A|     315639496|AmazonBasics Seat...|    Pet Products|          5|          216|        219|   Y|                N|Makes the back se...|[[VIDEOID:a514b57...|2015-06-29 00:00:00|\n",
            "+-----------+-----------+--------------+----------+--------------+--------------------+----------------+-----------+-------------+-----------+----+-----------------+--------------------+--------------------+-------------------+\n",
            "only showing top 10 rows\n",
            "\n"
          ]
        }
      ]
    },
    {
      "cell_type": "code",
      "source": [
        "# Repeat Step 3, but this time retrieve all the rows where the review was not part of the Vine program (unpaid)\n",
        "unpaid_reviews = votes_50up.filter(votes_50up.vine =='N')\n",
        "unpaid_reviews.show(10)"
      ],
      "metadata": {
        "colab": {
          "base_uri": "https://localhost:8080/"
        },
        "id": "BFWQFIT36P_s",
        "outputId": "9d9019ed-943c-4d80-b111-1fd15b1a4970"
      },
      "execution_count": 16,
      "outputs": [
        {
          "output_type": "stream",
          "name": "stdout",
          "text": [
            "+-----------+-----------+--------------+----------+--------------+--------------------+----------------+-----------+-------------+-----------+----+-----------------+--------------------+--------------------+-------------------+\n",
            "|marketplace|customer_id|     review_id|product_id|product_parent|       product_title|product_category|star_rating|helpful_votes|total_votes|vine|verified_purchase|     review_headline|         review_body|        review_date|\n",
            "+-----------+-----------+--------------+----------+--------------+--------------------+----------------+-----------+-------------+-----------+----+-----------------+--------------------+--------------------+-------------------+\n",
            "|         US|   51227803|R21KC552Y6HL8X|B00E2E1XBK|     180836080|Kennel Deck - 3 Pack|    Pet Products|          1|           27|         31|   N|                Y|The picture is of...|The product add p...|2015-08-31 00:00:00|\n",
            "|         US|   52747799| RX9WC9FTIR1XR|B00DZITYGU|     598776873|Grey Shark Bed fo...|    Pet Products|          5|           25|         25|   N|                Y|Two seconds flat ...|Once I set it up,...|2015-08-31 00:00:00|\n",
            "|         US|   23340430| RGDCOU1KBHMNG|B00N9SL8SS|     721942363|Pet Rat Mouse Lea...|    Pet Products|          3|           29|         31|   N|                Y|        OK for Price|Easy enough to pu...|2015-08-31 00:00:00|\n",
            "|         US|   48234208| RVTYWID2TPMMY|B00EB4IV2A|     140722056|Northmate Catch I...|    Pet Products|          2|           35|         42|   N|                Y|        Intimidating|Love the concept....|2015-08-31 00:00:00|\n",
            "|         US|    2321625|R2CMPZ5VESGRLY|B00OC7661E|     664108863|4 Pets Large Dog ...|    Pet Products|          4|           27|         28|   N|                Y|Xl fits my 51 pou...|A little big on h...|2015-08-31 00:00:00|\n",
            "|         US|   48415890|R3VQPJZ54B55BA|B0108LVGZI|     301347908|Medicated Oatmeal...|    Pet Products|          5|           62|         64|   N|                N|My Husky Says \"Th...|[[VIDEOID:2f1bbfc...|2015-08-31 00:00:00|\n",
            "|         US|   47321827|R24QM6D7FEDZ5M|B00EB4IV2A|     140722056|Northmate Catch I...|    Pet Products|          2|           36|         43|   N|                Y|MINI SIZE IS QUIT...|Have been using t...|2015-08-31 00:00:00|\n",
            "|         US|   53020738|R3A1VQ3SQDXEJ3|B00OLSARPK|     271494331|TEMPTATIONS SNACK...|    Pet Products|          5|           20|         20|   N|                Y|Fun for Even Less...|[[VIDEOID:4cc2a20...|2015-08-31 00:00:00|\n",
            "|         US|   41141285|  R39GSNW76GYF|B00YS9HI7C|     821362342|Easyology Premium...|    Pet Products|          1|           20|         23|   N|                Y|Hole within 24 hours|I hate to be one ...|2015-08-31 00:00:00|\n",
            "|         US|   51455033| RPJLR6MFDPXXE|B00Y841P12|     934091093|Merax Folding Cat...|    Pet Products|          5|           35|         36|   N|                Y|I LOVE THIS STROL...|My dog, Paris, is...|2015-08-31 00:00:00|\n",
            "+-----------+-----------+--------------+----------+--------------+--------------------+----------------+-----------+-------------+-----------+----+-----------------+--------------------+--------------------+-------------------+\n",
            "only showing top 10 rows\n",
            "\n"
          ]
        }
      ]
    },
    {
      "cell_type": "code",
      "source": [
        "# Total number of paid reviews\n",
        "paid_reviews_total = paid_reviews.count()\n",
        "paid_reviews_total"
      ],
      "metadata": {
        "colab": {
          "base_uri": "https://localhost:8080/"
        },
        "id": "nol0DjHT6UJE",
        "outputId": "57ae9685-9104-49dd-cd0c-9cfac64d7b81"
      },
      "execution_count": 13,
      "outputs": [
        {
          "output_type": "execute_result",
          "data": {
            "text/plain": [
              "170"
            ]
          },
          "metadata": {},
          "execution_count": 13
        }
      ]
    },
    {
      "cell_type": "code",
      "source": [
        "# Number of 5-star paid reviews\n",
        "five_star_paid_reviews = paid_reviews.filter(paid_reviews.star_rating == 5).count()\n",
        "five_star_paid_reviews"
      ],
      "metadata": {
        "colab": {
          "base_uri": "https://localhost:8080/"
        },
        "id": "rtisb1vW83HA",
        "outputId": "4f496b05-aa13-4d93-be8d-4fcd4a65be77"
      },
      "execution_count": 18,
      "outputs": [
        {
          "output_type": "execute_result",
          "data": {
            "text/plain": [
              "65"
            ]
          },
          "metadata": {},
          "execution_count": 18
        }
      ]
    },
    {
      "cell_type": "code",
      "source": [
        "# Percentage of 5-star paid reviews\n",
        "five_star_paid_percentage = (five_star_paid_reviews / paid_reviews_total) * 100\n",
        "five_star_paid_percentage"
      ],
      "metadata": {
        "colab": {
          "base_uri": "https://localhost:8080/"
        },
        "id": "8uxb5FDa89FA",
        "outputId": "3053ca9d-b342-493e-a71c-9f11a195c337"
      },
      "execution_count": 21,
      "outputs": [
        {
          "output_type": "execute_result",
          "data": {
            "text/plain": [
              "38.23529411764706"
            ]
          },
          "metadata": {},
          "execution_count": 21
        }
      ]
    },
    {
      "cell_type": "code",
      "source": [
        "# Total number of unpaid reviews\n",
        "unpaid_reviews_total = unpaid_reviews.count()\n",
        "unpaid_reviews_total"
      ],
      "metadata": {
        "colab": {
          "base_uri": "https://localhost:8080/"
        },
        "id": "kA0iCEWI9vEI",
        "outputId": "75473402-e900-4843-c70c-6b4617f4b423"
      },
      "execution_count": 17,
      "outputs": [
        {
          "output_type": "execute_result",
          "data": {
            "text/plain": [
              "37840"
            ]
          },
          "metadata": {},
          "execution_count": 17
        }
      ]
    },
    {
      "cell_type": "code",
      "source": [
        "# Number of 5-star paid reviews\n",
        "five_star_unpaid_reviews = unpaid_reviews.filter(unpaid_reviews.star_rating == 5).count()\n",
        "five_star_unpaid_reviews"
      ],
      "metadata": {
        "colab": {
          "base_uri": "https://localhost:8080/"
        },
        "id": "DyWo1q8H9ywF",
        "outputId": "57f9a472-b3ed-4d35-a608-06497345a4a2"
      },
      "execution_count": 19,
      "outputs": [
        {
          "output_type": "execute_result",
          "data": {
            "text/plain": [
              "20612"
            ]
          },
          "metadata": {},
          "execution_count": 19
        }
      ]
    },
    {
      "cell_type": "code",
      "source": [
        "# # Percentage of 5-star unpaid reviews \n",
        "five_star_unpaid_percentage = (five_star_unpaid_reviews / unpaid_reviews_total) * 100\n",
        "five_star_unpaid_percentage"
      ],
      "metadata": {
        "colab": {
          "base_uri": "https://localhost:8080/"
        },
        "id": "EVPksZ8C9DXn",
        "outputId": "1f6d722b-a85e-4fd1-b5b9-6e6e2f7a5377"
      },
      "execution_count": 22,
      "outputs": [
        {
          "output_type": "execute_result",
          "data": {
            "text/plain": [
              "54.471458773784356"
            ]
          },
          "metadata": {},
          "execution_count": 22
        }
      ]
    }
  ]
}